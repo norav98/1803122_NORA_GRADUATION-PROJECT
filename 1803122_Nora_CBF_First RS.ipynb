{
 "cells": [
  {
   "cell_type": "markdown",
   "metadata": {},
   "source": [
    "# Recommender system - Content Based"
   ]
  },
  {
   "cell_type": "markdown",
   "metadata": {},
   "source": [
    "This first recommender system has been possible thanks to the adaptation of the code and support of Firat Soydinc."
   ]
  },
  {
   "cell_type": "code",
   "execution_count": 13,
   "metadata": {},
   "outputs": [],
   "source": [
    "import pandas as pd \n",
    "from sklearn.metrics.pairwise import linear_kernel\n",
    "from sklearn.feature_extraction.text import TfidfVectorizer"
   ]
  },
  {
   "cell_type": "code",
   "execution_count": 14,
   "metadata": {},
   "outputs": [],
   "source": [
    "df = pd.read_csv(r'final.csv')"
   ]
  },
  {
   "cell_type": "code",
   "execution_count": 15,
   "metadata": {
    "scrolled": false
   },
   "outputs": [
    {
     "data": {
      "text/plain": [
       "Index(['Unnamed: 0', 'Product name', 'Description', 'Summary', 'Price',\n",
       "       'Ingredients', 'Quantity', 'key word'],\n",
       "      dtype='object')"
      ]
     },
     "execution_count": 15,
     "metadata": {},
     "output_type": "execute_result"
    }
   ],
   "source": [
    "df.columns\n"
   ]
  },
  {
   "cell_type": "markdown",
   "metadata": {},
   "source": [
    "___"
   ]
  },
  {
   "cell_type": "markdown",
   "metadata": {},
   "source": [
    "### Brief data cleaning to remove the row with empty cells."
   ]
  },
  {
   "cell_type": "code",
   "execution_count": 16,
   "metadata": {},
   "outputs": [],
   "source": [
    "df = df.dropna()"
   ]
  },
  {
   "cell_type": "markdown",
   "metadata": {},
   "source": [
    "### Application of Cosine Similarity \n",
    "\n",
    "To measure distances between the products' 'Summary' variables' vectors. This will make sure we obtain recommendations of products with a simmilar 'Summary' content. The variable 'Summary' was chosen because it was the most complete piece of information of the products to develop this first RS."
   ]
  },
  {
   "cell_type": "code",
   "execution_count": 26,
   "metadata": {},
   "outputs": [],
   "source": [
    "\n",
    "from sklearn.metrics.pairwise import linear_kernel\n",
    "from sklearn.feature_extraction.text import TfidfVectorizer\n",
    "\n",
    "tf = TfidfVectorizer(analyzer='word',\n",
    "                     ngram_range=(1, 2),\n",
    "                     min_df=0,\n",
    "                     stop_words='english')\n",
    "\n",
    "tfidf_matrix = tf.fit_transform(df['Summary'])\n",
    "#%%\n",
    "\n",
    "cosine_sim = linear_kernel(tfidf_matrix, tfidf_matrix)\n",
    "\n",
    "#%%\n",
    "titles = df[['Product name', 'Description', 'Summary', 'Price','Ingredients', 'Quantity', 'key word']]\n",
    "indices = pd.Series(df.index, index=df['Product name'])\n",
    "\n",
    "\n",
    "#%%\n",
    "def get_content_recommendations(title):\n",
    "    try:\n",
    "        # handle case in which similar products are on the dataset\n",
    "        idx = indices[title][0]\n",
    "    except IndexError:\n",
    "        idx = indices[title]\n",
    "    sim_scores = list(enumerate(cosine_sim[idx]))\n",
    "    sim_scores = sorted(sim_scores, key=lambda x: x[1], reverse=True)\n",
    "    ## The second number represents how many recommendations I'll get at the end, in this case 15.\n",
    "    sim_scores = sim_scores[1:15]\n",
    "    product_indices = [i[0] for i in sim_scores]\n",
    "    return products.iloc[product_indices]\n",
    "\n"
   ]
  },
  {
   "cell_type": "code",
   "execution_count": 27,
   "metadata": {
    "scrolled": false
   },
   "outputs": [
    {
     "name": "stdout",
     "output_type": "stream",
     "text": [
      "Name: AH Schnitzel Hongaarse stijl \n",
      "Price: 3.79 \n",
      "Quantity: 2 stuks \n",
      "k_word: Meat\n"
     ]
    }
   ],
   "source": [
    "index = 17\n",
    "name = df.iloc[index]['Product name']\n",
    "price = df.iloc[index].Price\n",
    "quantity = df.iloc[index].Quantity\n",
    "k_word = df.iloc[index]['key word']\n",
    "print(\"Name:\", name, \"\\nPrice:\", price, \"\\nQuantity:\", quantity, \"\\nk_word:\", k_word)"
   ]
  },
  {
   "cell_type": "markdown",
   "metadata": {},
   "source": [
    "___"
   ]
  },
  {
   "cell_type": "markdown",
   "metadata": {},
   "source": [
    "### Change product name here to obtain recommendations!\n",
    "\n",
    "The name of the products must obviously be taken from the dataframe. As mentioned before, this first RS is suggesting products related to the product selected 'Summary' variable. However, it is not taking into account the diet the product relates to. This is the first iteration, the creation of the working RS per se."
   ]
  },
  {
   "cell_type": "code",
   "execution_count": 28,
   "metadata": {},
   "outputs": [
    {
     "data": {
      "text/html": [
       "<div>\n",
       "<style scoped>\n",
       "    .dataframe tbody tr th:only-of-type {\n",
       "        vertical-align: middle;\n",
       "    }\n",
       "\n",
       "    .dataframe tbody tr th {\n",
       "        vertical-align: top;\n",
       "    }\n",
       "\n",
       "    .dataframe thead th {\n",
       "        text-align: right;\n",
       "    }\n",
       "</style>\n",
       "<table border=\"1\" class=\"dataframe\">\n",
       "  <thead>\n",
       "    <tr style=\"text-align: right;\">\n",
       "      <th></th>\n",
       "      <th>Product name</th>\n",
       "      <th>Description</th>\n",
       "      <th>Summary</th>\n",
       "      <th>Price</th>\n",
       "      <th>Ingredients</th>\n",
       "      <th>Quantity</th>\n",
       "      <th>key word</th>\n",
       "    </tr>\n",
       "  </thead>\n",
       "  <tbody>\n",
       "    <tr>\n",
       "      <th>32</th>\n",
       "      <td>AH Rundergehakt</td>\n",
       "      <td>RundergehaktVerpakt onder beschermende atmosfeer.</td>\n",
       "      <td>Rundergehakt om eindeloos mee te varieren. Nat...</td>\n",
       "      <td>8.49</td>\n",
       "      <td>1 Kilogram</td>\n",
       "      <td>1000 g</td>\n",
       "      <td>Meat</td>\n",
       "    </tr>\n",
       "    <tr>\n",
       "      <th>2</th>\n",
       "      <td>AH Rundergehakt</td>\n",
       "      <td>RundergehaktVerpakt onder beschermende atmosfeer.</td>\n",
       "      <td>Rundergehakt om eindeloos mee te varieren. Nat...</td>\n",
       "      <td>3.49</td>\n",
       "      <td>300 Gram</td>\n",
       "      <td>300 g</td>\n",
       "      <td>Meat</td>\n",
       "    </tr>\n",
       "    <tr>\n",
       "      <th>11</th>\n",
       "      <td>AH Mager rundergehakt</td>\n",
       "      <td>Mager rundergehaktVerpakt onder beschermende a...</td>\n",
       "      <td>Mager rundergehakt met minder vet om eindeloos...</td>\n",
       "      <td>3.59</td>\n",
       "      <td>300 Gram</td>\n",
       "      <td>300 g</td>\n",
       "      <td>Meat</td>\n",
       "    </tr>\n",
       "    <tr>\n",
       "      <th>29</th>\n",
       "      <td>AH Mager rundergehakt</td>\n",
       "      <td>Mager rundergehaktVerpakt onder beschermende a...</td>\n",
       "      <td>Mager rundergehakt met minder vet om eindeloos...</td>\n",
       "      <td>5.25</td>\n",
       "      <td>500 Gram</td>\n",
       "      <td>500 g</td>\n",
       "      <td>Meat</td>\n",
       "    </tr>\n",
       "    <tr>\n",
       "      <th>9</th>\n",
       "      <td>AH Half-om-half gehakt</td>\n",
       "      <td>Half-om-half gehaktVerpakt onder beschermende ...</td>\n",
       "      <td>Half-om-half gehakt om eindeloos mee te varier...</td>\n",
       "      <td>3.79</td>\n",
       "      <td>500 Gram</td>\n",
       "      <td>500 g</td>\n",
       "      <td>Meat</td>\n",
       "    </tr>\n",
       "    <tr>\n",
       "      <th>25</th>\n",
       "      <td>AH Half-om-half gehakt</td>\n",
       "      <td>Half-om-half gehaktVerpakt onder beschermende ...</td>\n",
       "      <td>Half-om-half gehakt om eindeloos mee te varier...</td>\n",
       "      <td>2.49</td>\n",
       "      <td>300 Gram</td>\n",
       "      <td>300 g</td>\n",
       "      <td>Meat</td>\n",
       "    </tr>\n",
       "    <tr>\n",
       "      <th>63</th>\n",
       "      <td>AH Half-om-half gehakt</td>\n",
       "      <td>Half-om-half gehaktVerpakt onder beschermende ...</td>\n",
       "      <td>Half-om-half gehakt om eindeloos mee te varier...</td>\n",
       "      <td>6.49</td>\n",
       "      <td>1 Kilogram</td>\n",
       "      <td>1 kg</td>\n",
       "      <td>Meat</td>\n",
       "    </tr>\n",
       "    <tr>\n",
       "      <th>62</th>\n",
       "      <td>AH Biologisch Bio hoh gehakt 300 gram</td>\n",
       "      <td>Half-om-half gehaktSkal 001920\\nEU-bio-logo\\nN...</td>\n",
       "      <td>Half om half gehakt van heerlijk mals, biologi...</td>\n",
       "      <td>3.89</td>\n",
       "      <td>300 Gram</td>\n",
       "      <td>300 g</td>\n",
       "      <td>Meat</td>\n",
       "    </tr>\n",
       "    <tr>\n",
       "      <th>10</th>\n",
       "      <td>AH Biologisch Rundergehakt</td>\n",
       "      <td>RundergehaktSkal 001920\\nEU-bio-logo\\nNL-BIO-0...</td>\n",
       "      <td>Rundergehakt van mals, biologisch rundvlees. O...</td>\n",
       "      <td>3.99</td>\n",
       "      <td>300 Gram</td>\n",
       "      <td>300 g</td>\n",
       "      <td>Meat</td>\n",
       "    </tr>\n",
       "    <tr>\n",
       "      <th>26</th>\n",
       "      <td>AH Biologisch Rundergehakt</td>\n",
       "      <td>RundergehaktSkal 001920\\nEU-bio-logo\\nNL-BIO-0...</td>\n",
       "      <td>Rundergehakt van mals, biologisch rundvlees. O...</td>\n",
       "      <td>6.49</td>\n",
       "      <td>500 Gram</td>\n",
       "      <td>500 g</td>\n",
       "      <td>Meat</td>\n",
       "    </tr>\n",
       "    <tr>\n",
       "      <th>74</th>\n",
       "      <td>AH Biologisch Mager rundergehakt</td>\n",
       "      <td>Mager rundergehaktSkal 001920\\nEU-bio-logo\\nNL...</td>\n",
       "      <td>Mager rundergehakt van biologisch rundvlees, b...</td>\n",
       "      <td>4.99</td>\n",
       "      <td>300 Gram</td>\n",
       "      <td>300 g</td>\n",
       "      <td>Meat</td>\n",
       "    </tr>\n",
       "    <tr>\n",
       "      <th>741</th>\n",
       "      <td>AH Scharrel kipfilet 3 stuks</td>\n",
       "      <td>KipfiletVers, Klasse A, Scharrelkip binnengeho...</td>\n",
       "      <td>Malse kipfilet naturel van scharrelkippen om e...</td>\n",
       "      <td>9.47</td>\n",
       "      <td>600 Gram</td>\n",
       "      <td>ca. 565 g</td>\n",
       "      <td>Chicken</td>\n",
       "    </tr>\n",
       "    <tr>\n",
       "      <th>36</th>\n",
       "      <td>Wahid Rundergehakt</td>\n",
       "      <td>Rundergehakt. Gemalen rundvleesbereidingVerpak...</td>\n",
       "      <td>Fijngemalen rundergehakt van 100% rundvlees.Sa...</td>\n",
       "      <td>6.29</td>\n",
       "      <td>500 Gram</td>\n",
       "      <td>500 g</td>\n",
       "      <td>Meat</td>\n",
       "    </tr>\n",
       "    <tr>\n",
       "      <th>696</th>\n",
       "      <td>AH Kipfilet</td>\n",
       "      <td>Kipfiletvers, klasse AVerpakt onder beschermen...</td>\n",
       "      <td>Malse naturel kipfilet om eindeloos mee te var...</td>\n",
       "      <td>9.99</td>\n",
       "      <td>1 Kilogram</td>\n",
       "      <td>1000 g</td>\n",
       "      <td>Chicken</td>\n",
       "    </tr>\n",
       "  </tbody>\n",
       "</table>\n",
       "</div>"
      ],
      "text/plain": [
       "                              Product name  \\\n",
       "32                         AH Rundergehakt   \n",
       "2                          AH Rundergehakt   \n",
       "11                   AH Mager rundergehakt   \n",
       "29                   AH Mager rundergehakt   \n",
       "9                   AH Half-om-half gehakt   \n",
       "25                  AH Half-om-half gehakt   \n",
       "63                  AH Half-om-half gehakt   \n",
       "62   AH Biologisch Bio hoh gehakt 300 gram   \n",
       "10              AH Biologisch Rundergehakt   \n",
       "26              AH Biologisch Rundergehakt   \n",
       "74        AH Biologisch Mager rundergehakt   \n",
       "741           AH Scharrel kipfilet 3 stuks   \n",
       "36                      Wahid Rundergehakt   \n",
       "696                            AH Kipfilet   \n",
       "\n",
       "                                           Description  \\\n",
       "32   RundergehaktVerpakt onder beschermende atmosfeer.   \n",
       "2    RundergehaktVerpakt onder beschermende atmosfeer.   \n",
       "11   Mager rundergehaktVerpakt onder beschermende a...   \n",
       "29   Mager rundergehaktVerpakt onder beschermende a...   \n",
       "9    Half-om-half gehaktVerpakt onder beschermende ...   \n",
       "25   Half-om-half gehaktVerpakt onder beschermende ...   \n",
       "63   Half-om-half gehaktVerpakt onder beschermende ...   \n",
       "62   Half-om-half gehaktSkal 001920\\nEU-bio-logo\\nN...   \n",
       "10   RundergehaktSkal 001920\\nEU-bio-logo\\nNL-BIO-0...   \n",
       "26   RundergehaktSkal 001920\\nEU-bio-logo\\nNL-BIO-0...   \n",
       "74   Mager rundergehaktSkal 001920\\nEU-bio-logo\\nNL...   \n",
       "741  KipfiletVers, Klasse A, Scharrelkip binnengeho...   \n",
       "36   Rundergehakt. Gemalen rundvleesbereidingVerpak...   \n",
       "696  Kipfiletvers, klasse AVerpakt onder beschermen...   \n",
       "\n",
       "                                               Summary  Price Ingredients  \\\n",
       "32   Rundergehakt om eindeloos mee te varieren. Nat...   8.49  1 Kilogram   \n",
       "2    Rundergehakt om eindeloos mee te varieren. Nat...   3.49    300 Gram   \n",
       "11   Mager rundergehakt met minder vet om eindeloos...   3.59    300 Gram   \n",
       "29   Mager rundergehakt met minder vet om eindeloos...   5.25    500 Gram   \n",
       "9    Half-om-half gehakt om eindeloos mee te varier...   3.79    500 Gram   \n",
       "25   Half-om-half gehakt om eindeloos mee te varier...   2.49    300 Gram   \n",
       "63   Half-om-half gehakt om eindeloos mee te varier...   6.49  1 Kilogram   \n",
       "62   Half om half gehakt van heerlijk mals, biologi...   3.89    300 Gram   \n",
       "10   Rundergehakt van mals, biologisch rundvlees. O...   3.99    300 Gram   \n",
       "26   Rundergehakt van mals, biologisch rundvlees. O...   6.49    500 Gram   \n",
       "74   Mager rundergehakt van biologisch rundvlees, b...   4.99    300 Gram   \n",
       "741  Malse kipfilet naturel van scharrelkippen om e...   9.47    600 Gram   \n",
       "36   Fijngemalen rundergehakt van 100% rundvlees.Sa...   6.29    500 Gram   \n",
       "696  Malse naturel kipfilet om eindeloos mee te var...   9.99  1 Kilogram   \n",
       "\n",
       "      Quantity key word  \n",
       "32      1000 g     Meat  \n",
       "2        300 g     Meat  \n",
       "11       300 g     Meat  \n",
       "29       500 g     Meat  \n",
       "9        500 g     Meat  \n",
       "25       300 g     Meat  \n",
       "63        1 kg     Meat  \n",
       "62       300 g     Meat  \n",
       "10       300 g     Meat  \n",
       "26       500 g     Meat  \n",
       "74       300 g     Meat  \n",
       "741  ca. 565 g  Chicken  \n",
       "36       500 g     Meat  \n",
       "696     1000 g  Chicken  "
      ]
     },
     "execution_count": 28,
     "metadata": {},
     "output_type": "execute_result"
    }
   ],
   "source": [
    "## This recommendation is based on the summary. Now we need to add constraints, 'key words' for the diets.\n",
    "\n",
    "### To make it work, input product names from the 'final.csv' file.\n",
    "\n",
    "get_content_recommendations('AH Rundergehakt')"
   ]
  },
  {
   "cell_type": "code",
   "execution_count": null,
   "metadata": {},
   "outputs": [],
   "source": []
  }
 ],
 "metadata": {
  "kernelspec": {
   "display_name": "Python 3",
   "language": "python",
   "name": "python3"
  },
  "language_info": {
   "codemirror_mode": {
    "name": "ipython",
    "version": 3
   },
   "file_extension": ".py",
   "mimetype": "text/x-python",
   "name": "python",
   "nbconvert_exporter": "python",
   "pygments_lexer": "ipython3",
   "version": "3.8.5"
  }
 },
 "nbformat": 4,
 "nbformat_minor": 5
}
